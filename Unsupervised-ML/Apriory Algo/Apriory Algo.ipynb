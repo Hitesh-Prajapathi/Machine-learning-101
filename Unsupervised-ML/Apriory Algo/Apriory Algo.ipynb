{
  "nbformat": 4,
  "nbformat_minor": 0,
  "metadata": {
    "colab": {
      "provenance": []
    },
    "kernelspec": {
      "name": "python3",
      "display_name": "Python 3"
    },
    "language_info": {
      "name": "python"
    }
  },
  "cells": [
    {
      "cell_type": "code",
      "execution_count": null,
      "metadata": {
        "id": "pzWXkE7bQWlp"
      },
      "outputs": [],
      "source": [
        "import pandas as pd\n",
        "import numpy as np\n",
        "import matplotlib.pyplot as plt\n",
        "import seaborn as sns\n",
        "from mlxtend.preprocessing import TransactionEncoder\n",
        "from mlxtend.frequent_patterns import apriori\n",
        "from mlxtend.frequent_patterns import association_rules"
      ]
    },
    {
      "cell_type": "code",
      "source": [
        "df = pd.read_csv(\"/content/Groceries_dataset2.csv\", encoding_errors='ignore')"
      ],
      "metadata": {
        "id": "3gzeqfXodUnU"
      },
      "execution_count": null,
      "outputs": []
    },
    {
      "cell_type": "code",
      "source": [
        "print(\"Shape:\", df.shape)\n",
        "print(df.head())"
      ],
      "metadata": {
        "colab": {
          "base_uri": "https://localhost:8080/"
        },
        "id": "KLCYxnzFdUw-",
        "outputId": "ea466fa6-ac15-4b91-a250-7c88be37f131"
      },
      "execution_count": null,
      "outputs": [
        {
          "output_type": "stream",
          "name": "stdout",
          "text": [
            "Shape: (38765, 3)\n",
            "   Member_number        Date   itemDescription\n",
            "0           1808  21-07-2015    tropical fruit\n",
            "1           2552  05-01-2015        whole milk\n",
            "2           2300  19-09-2015         pip fruit\n",
            "3           1187  12-12-2015  other vegetables\n",
            "4           3037  01-02-2015        whole milk\n"
          ]
        }
      ]
    },
    {
      "cell_type": "code",
      "source": [
        "print(df.info())\n",
        "\n",
        "print(df.isna().sum())"
      ],
      "metadata": {
        "colab": {
          "base_uri": "https://localhost:8080/"
        },
        "id": "903FfMrUdUzY",
        "outputId": "65b0d773-8851-43f3-af52-968611839df2"
      },
      "execution_count": null,
      "outputs": [
        {
          "output_type": "stream",
          "name": "stdout",
          "text": [
            "<class 'pandas.core.frame.DataFrame'>\n",
            "RangeIndex: 38765 entries, 0 to 38764\n",
            "Data columns (total 3 columns):\n",
            " #   Column           Non-Null Count  Dtype \n",
            "---  ------           --------------  ----- \n",
            " 0   Member_number    38765 non-null  int64 \n",
            " 1   Date             38765 non-null  object\n",
            " 2   itemDescription  38765 non-null  object\n",
            "dtypes: int64(1), object(2)\n",
            "memory usage: 908.7+ KB\n",
            "None\n",
            "Member_number      0\n",
            "Date               0\n",
            "itemDescription    0\n",
            "dtype: int64\n"
          ]
        }
      ]
    },
    {
      "cell_type": "code",
      "source": [
        "#Since, date was an object, we need to convert it into appropirate type\n",
        "\n",
        "df['Date'] = pd.to_datetime(df['Date'], format='%d-%m-%Y')\n",
        "df['Date'].dt.year.value_counts().sort_values(ascending=False)"
      ],
      "metadata": {
        "colab": {
          "base_uri": "https://localhost:8080/",
          "height": 178
        },
        "id": "z1JzYSZrdU1l",
        "outputId": "47bae001-c603-4d64-e0d2-6dffca9dc72f"
      },
      "execution_count": null,
      "outputs": [
        {
          "output_type": "execute_result",
          "data": {
            "text/plain": [
              "Date\n",
              "2015    20488\n",
              "2014    18277\n",
              "Name: count, dtype: int64"
            ],
            "text/html": [
              "<div>\n",
              "<style scoped>\n",
              "    .dataframe tbody tr th:only-of-type {\n",
              "        vertical-align: middle;\n",
              "    }\n",
              "\n",
              "    .dataframe tbody tr th {\n",
              "        vertical-align: top;\n",
              "    }\n",
              "\n",
              "    .dataframe thead th {\n",
              "        text-align: right;\n",
              "    }\n",
              "</style>\n",
              "<table border=\"1\" class=\"dataframe\">\n",
              "  <thead>\n",
              "    <tr style=\"text-align: right;\">\n",
              "      <th></th>\n",
              "      <th>count</th>\n",
              "    </tr>\n",
              "    <tr>\n",
              "      <th>Date</th>\n",
              "      <th></th>\n",
              "    </tr>\n",
              "  </thead>\n",
              "  <tbody>\n",
              "    <tr>\n",
              "      <th>2015</th>\n",
              "      <td>20488</td>\n",
              "    </tr>\n",
              "    <tr>\n",
              "      <th>2014</th>\n",
              "      <td>18277</td>\n",
              "    </tr>\n",
              "  </tbody>\n",
              "</table>\n",
              "</div><br><label><b>dtype:</b> int64</label>"
            ]
          },
          "metadata": {},
          "execution_count": 11
        }
      ]
    },
    {
      "cell_type": "code",
      "source": [
        "# using groupby to arrange the transactions according to member and date\n",
        "#using ['itemDescription'].apply(list) to convert different transactions of a person at a specific data into a list\n",
        "\n",
        "transactions_df = (df.groupby(['Member_number', 'Date'])['itemDescription'].apply(list).reset_index().rename(columns={'itemDescription': 'Items'}))\n",
        "print(transactions_df.head())\n",
        "print(f\"\\nTotal number of transactions: {len(transactions_df)}\")"
      ],
      "metadata": {
        "colab": {
          "base_uri": "https://localhost:8080/"
        },
        "id": "TkRvfJRIdU3t",
        "outputId": "4a9e9fb4-0ca1-47ad-ddb9-4d746ff8c2fa"
      },
      "execution_count": null,
      "outputs": [
        {
          "output_type": "stream",
          "name": "stdout",
          "text": [
            "   Member_number       Date                                              Items\n",
            "0           1000 2014-06-24                  [whole milk, pastry, salty snack]\n",
            "1           1000 2015-03-15  [sausage, whole milk, semi-finished bread, yog...\n",
            "2           1000 2015-05-27                         [soda, pickled vegetables]\n",
            "3           1000 2015-07-24                     [canned beer, misc. beverages]\n",
            "4           1000 2015-11-25                        [sausage, hygiene articles]\n",
            "\n",
            "Total number of transactions: 14963\n"
          ]
        }
      ]
    },
    {
      "cell_type": "code",
      "source": [
        "# Using transactionEncoder to do one hot coding and getting basket_matrix\n",
        "\n",
        "te = TransactionEncoder()\n",
        "te_ary = te.fit(transactions_df['Items']).transform(transactions_df['Items'])\n",
        "basket_matrix = pd.DataFrame(te_ary, columns=te.columns_)"
      ],
      "metadata": {
        "id": "EazfOIlfdU9j"
      },
      "execution_count": null,
      "outputs": []
    },
    {
      "cell_type": "code",
      "source": [
        "print(\"Basket shape:\", basket_matrix.shape)\n",
        "print(basket_matrix.iloc[:5, :10])"
      ],
      "metadata": {
        "colab": {
          "base_uri": "https://localhost:8080/"
        },
        "id": "qxgt89XxdU_p",
        "outputId": "2de264db-634b-4301-a729-0a48009910bb"
      },
      "execution_count": null,
      "outputs": [
        {
          "output_type": "stream",
          "name": "stdout",
          "text": [
            "Basket shape: (14963, 167)\n",
            "   Instant food products  UHT-milk  abrasive cleaner  artif. sweetener  \\\n",
            "0                  False     False             False             False   \n",
            "1                  False     False             False             False   \n",
            "2                  False     False             False             False   \n",
            "3                  False     False             False             False   \n",
            "4                  False     False             False             False   \n",
            "\n",
            "   baby cosmetics   bags  baking powder  bathroom cleaner   beef  berries  \n",
            "0           False  False          False             False  False    False  \n",
            "1           False  False          False             False  False    False  \n",
            "2           False  False          False             False  False    False  \n",
            "3           False  False          False             False  False    False  \n",
            "4           False  False          False             False  False    False  \n"
          ]
        }
      ]
    },
    {
      "cell_type": "code",
      "source": [
        "#applying appriori algorithm on basket_matrix and also counting support in numbers\n",
        "\n",
        "frequent_itemsets = apriori(basket_matrix,min_support=0.01,use_colnames=True)\n",
        "\n",
        "frequent_itemsets['support_count'] = (frequent_itemsets['support'] * len(basket_matrix))\n",
        "\n",
        "frequent_itemsets = frequent_itemsets.sort_values(by='support',ascending=False).reset_index(drop=True)\n",
        "\n",
        "print(frequent_itemsets.head(10))"
      ],
      "metadata": {
        "colab": {
          "base_uri": "https://localhost:8080/"
        },
        "id": "vtZwlufvdVBu",
        "outputId": "6201598e-3e00-459f-b93b-bee92e4cff90"
      },
      "execution_count": null,
      "outputs": [
        {
          "output_type": "stream",
          "name": "stdout",
          "text": [
            "    support            itemsets  support_count\n",
            "0  0.157923        (whole milk)         2363.0\n",
            "1  0.122101  (other vegetables)         1827.0\n",
            "2  0.110005        (rolls/buns)         1646.0\n",
            "3  0.097106              (soda)         1453.0\n",
            "4  0.085879            (yogurt)         1285.0\n",
            "5  0.069572   (root vegetables)         1041.0\n",
            "6  0.067767    (tropical fruit)         1014.0\n",
            "7  0.060683     (bottled water)          908.0\n",
            "8  0.060349           (sausage)          903.0\n",
            "9  0.053131      (citrus fruit)          795.0\n"
          ]
        }
      ]
    },
    {
      "cell_type": "code",
      "source": [
        "#generating rules from the frequent_itemsets\n",
        "rules = association_rules(frequent_itemsets,metric='confidence',min_threshold=0.1)\n",
        "rules = rules.sort_values(by='lift', ascending=False).reset_index(drop=True)\n",
        "print(rules[['antecedents','consequents','support','confidence','lift']].head(10))"
      ],
      "metadata": {
        "colab": {
          "base_uri": "https://localhost:8080/"
        },
        "id": "0T3hTut-d6G6",
        "outputId": "5f3a2a30-f53b-4e54-b70a-923d9387b494"
      },
      "execution_count": null,
      "outputs": [
        {
          "output_type": "stream",
          "name": "stdout",
          "text": [
            "          antecedents   consequents   support  confidence      lift\n",
            "0            (yogurt)  (whole milk)  0.011161    0.129961  0.822940\n",
            "1        (rolls/buns)  (whole milk)  0.013968    0.126974  0.804028\n",
            "2  (other vegetables)  (whole milk)  0.014837    0.121511  0.769430\n",
            "3              (soda)  (whole milk)  0.011629    0.119752  0.758296\n"
          ]
        }
      ]
    },
    {
      "cell_type": "code",
      "source": [
        "plt.figure(figsize=(6, 6))\n",
        "plt.scatter(rules['support'],rules['confidence'],s=rules['lift'] * 40)\n",
        "plt.xlabel('Support')\n",
        "plt.ylabel('Confidence')\n",
        "plt.title('Support vs Confidence (marker size = Lift)')\n",
        "plt.tight_layout()\n",
        "plt.show()"
      ],
      "metadata": {
        "colab": {
          "base_uri": "https://localhost:8080/",
          "height": 607
        },
        "id": "FRBd9t9ld6ML",
        "outputId": "a02ef5ec-30cb-4835-f003-63e05a0ec068"
      },
      "execution_count": null,
      "outputs": [
        {
          "output_type": "display_data",
          "data": {
            "text/plain": [
              "<Figure size 600x600 with 1 Axes>"
            ],
            "image/png": "[encoded data removed]"
          },
          "metadata": {}
        }
      ]
    },
    {
      "cell_type": "code",
      "source": [
        "#comparing different rules with their confidence\n",
        "\n",
        "top_rules = rules.sort_values(by='confidence', ascending=False).head(10)\n",
        "top_rules['rule'] = top_rules['antecedents'].apply(lambda x: ', '.join(list(x))) + ' → ' + \\\n",
        "                    top_rules['consequents'].apply(lambda x: ', '.join(list(x)))\n",
        "plt.figure(figsize=(12, 6))\n",
        "plt.barh(top_rules['rule'], top_rules['confidence'], color='red')\n",
        "plt.xlabel('Confidence')\n",
        "plt.title('Top 10 Association Rules by Confidence')\n",
        "plt.gca().invert_yaxis()  # Highest confidence at the top\n",
        "plt.tight_layout()\n",
        "plt.show()"
      ],
      "metadata": {
        "colab": {
          "base_uri": "https://localhost:8080/",
          "height": 569
        },
        "id": "KAdIYqEsd6Ut",
        "outputId": "4545dfa8-4bb3-49e7-e803-497dda6acd91"
      },
      "execution_count": null,
      "outputs": [
        {
          "output_type": "display_data",
          "data": {
            "text/plain": [
              "<Figure size 1200x600 with 1 Axes>"
            ],
            "image/png": "[encoded data removed]"
          },
          "metadata": {}
        }
      ]
    },
    {
      "cell_type": "markdown",
      "source": [
        "Interpretation and Use of Association Rules in Inventory Management:\n",
        "\n",
        "The association rules found using the Apriori algorithm help us understand what items customers often buy together. For example, rules like \"rolls/buns → whole milk\" or \"yogurt → whole milk\" show that these items are commonly purchased as a pair. This can help improve inventory planning in many ways.First, such items can be kept close to each other in the store to make shopping easier and encourage customers to buy more. Second, the store can offer combo deals or discounts on these popular combinations to increase sales. Lastly, items that appear frequently in the rules should always be kept in stock to avoid running out. In short, these rules make inventory decisions more accurate and better suited to customer needs.\n"
      ],
      "metadata": {
        "id": "2lotdEfXaAK0"
      }
    },
    {
      "cell_type": "code",
      "source": [],
      "metadata": {
        "id": "-czPzqDWaBls"
      },
      "execution_count": null,
      "outputs": []
    }
  ]
}